{
  "nbformat": 4,
  "nbformat_minor": 0,
  "metadata": {
    "colab": {
      "name": "hw_Sept14.ipynb",
      "provenance": []
    },
    "kernelspec": {
      "name": "python3",
      "display_name": "Python 3"
    }
  },
  "cells": [
    {
      "cell_type": "markdown",
      "metadata": {
        "id": "1M0Ngc8IvsTN",
        "colab_type": "text"
      },
      "source": [
        "# Make your Own Neural Network \n",
        "Link: http://www.mediafire.com/file/72oi6vzp9l2ps9a/Make_Your_Own_Neural_Network_-_Chapter_1_and_2.pdf/file\n",
        "\n",
        "Chapter 2 pages 122-149 (Python coding up until Neural Network code)\n"
      ]
    },
    {
      "cell_type": "code",
      "metadata": {
        "id": "2EFrQ7p4vp1R",
        "colab_type": "code",
        "colab": {
          "base_uri": "https://localhost:8080/",
          "height": 34
        },
        "outputId": "6ae1d356-913e-45ab-e28c-131243e9e5a1"
      },
      "source": [
        "2*3"
      ],
      "execution_count": 1,
      "outputs": [
        {
          "output_type": "execute_result",
          "data": {
            "text/plain": [
              "6"
            ]
          },
          "metadata": {
            "tags": []
          },
          "execution_count": 1
        }
      ]
    },
    {
      "cell_type": "code",
      "metadata": {
        "id": "um4cELRawiMf",
        "colab_type": "code",
        "colab": {
          "base_uri": "https://localhost:8080/",
          "height": 34
        },
        "outputId": "7569ca1f-c019-4d15-cf8b-2aaaaeb5d66d"
      },
      "source": [
        "print('Hello World')"
      ],
      "execution_count": 2,
      "outputs": [
        {
          "output_type": "stream",
          "text": [
            "Hello World\n"
          ],
          "name": "stdout"
        }
      ]
    },
    {
      "cell_type": "code",
      "metadata": {
        "id": "zzRa1gPGwpVX",
        "colab_type": "code",
        "colab": {
          "base_uri": "https://localhost:8080/",
          "height": 68
        },
        "outputId": "e90b1cbe-b559-4a5e-a181-c90650ff982f"
      },
      "source": [
        "x = 10\n",
        "print(x)\n",
        "print(x+5)\n",
        "\n",
        "y = x+7\n",
        "print(y)\n"
      ],
      "execution_count": 4,
      "outputs": [
        {
          "output_type": "stream",
          "text": [
            "10\n",
            "15\n",
            "17\n"
          ],
          "name": "stdout"
        }
      ]
    },
    {
      "cell_type": "code",
      "metadata": {
        "id": "apz2jDNuxH9l",
        "colab_type": "code",
        "colab": {
          "base_uri": "https://localhost:8080/",
          "height": 34
        },
        "outputId": "08215129-85b4-446e-ebc4-ed0b8e70ff52"
      },
      "source": [
        "list(range(10))"
      ],
      "execution_count": 10,
      "outputs": [
        {
          "output_type": "execute_result",
          "data": {
            "text/plain": [
              "[0, 1, 2, 3, 4, 5, 6, 7, 8, 9]"
            ]
          },
          "metadata": {
            "tags": []
          },
          "execution_count": 10
        }
      ]
    },
    {
      "cell_type": "code",
      "metadata": {
        "id": "5sJkHCBHxtNJ",
        "colab_type": "code",
        "colab": {
          "base_uri": "https://localhost:8080/",
          "height": 187
        },
        "outputId": "71c62e71-96b2-4762-8e3b-517995084751"
      },
      "source": [
        "for n in range(10):\n",
        "  print(n)"
      ],
      "execution_count": 11,
      "outputs": [
        {
          "output_type": "stream",
          "text": [
            "0\n",
            "1\n",
            "2\n",
            "3\n",
            "4\n",
            "5\n",
            "6\n",
            "7\n",
            "8\n",
            "9\n"
          ],
          "name": "stdout"
        }
      ]
    },
    {
      "cell_type": "code",
      "metadata": {
        "id": "lf5rCkPUyG9S",
        "colab_type": "code",
        "colab": {
          "base_uri": "https://localhost:8080/",
          "height": 357
        },
        "outputId": "e9429d1b-c3aa-45e1-9d31-f383e5fba464"
      },
      "source": [
        "for n in range(20):\n",
        "  print('The square of',n, \"is\", n*n)"
      ],
      "execution_count": 12,
      "outputs": [
        {
          "output_type": "stream",
          "text": [
            "The square of 0 is 0\n",
            "The square of 1 is 1\n",
            "The square of 2 is 4\n",
            "The square of 3 is 9\n",
            "The square of 4 is 16\n",
            "The square of 5 is 25\n",
            "The square of 6 is 36\n",
            "The square of 7 is 49\n",
            "The square of 8 is 64\n",
            "The square of 9 is 81\n",
            "The square of 10 is 100\n",
            "The square of 11 is 121\n",
            "The square of 12 is 144\n",
            "The square of 13 is 169\n",
            "The square of 14 is 196\n",
            "The square of 15 is 225\n",
            "The square of 16 is 256\n",
            "The square of 17 is 289\n",
            "The square of 18 is 324\n",
            "The square of 19 is 361\n"
          ],
          "name": "stdout"
        }
      ]
    },
    {
      "cell_type": "code",
      "metadata": {
        "id": "4gfmMuLDywXS",
        "colab_type": "code",
        "colab": {
          "base_uri": "https://localhost:8080/",
          "height": 187
        },
        "outputId": "5e7a720f-9ef9-47f9-d9ec-2532aab65be9"
      },
      "source": [
        "# function that returns the average of two numbers\n",
        "def average(x,y):\n",
        "  average_result = (x+y)/2\n",
        "  print('The average of ',x,' and ',y, \" is \", average_result)\n",
        "  return average_result\n",
        "\n",
        "for i in range(10):\n",
        "  average(i,i+1)\n"
      ],
      "execution_count": 14,
      "outputs": [
        {
          "output_type": "stream",
          "text": [
            "The average of  0  and  1  is  0.5\n",
            "The average of  1  and  2  is  1.5\n",
            "The average of  2  and  3  is  2.5\n",
            "The average of  3  and  4  is  3.5\n",
            "The average of  4  and  5  is  4.5\n",
            "The average of  5  and  6  is  5.5\n",
            "The average of  6  and  7  is  6.5\n",
            "The average of  7  and  8  is  7.5\n",
            "The average of  8  and  9  is  8.5\n",
            "The average of  9  and  10  is  9.5\n"
          ],
          "name": "stdout"
        }
      ]
    },
    {
      "cell_type": "code",
      "metadata": {
        "id": "aQ5Ow8HK0O9T",
        "colab_type": "code",
        "colab": {
          "base_uri": "https://localhost:8080/",
          "height": 68
        },
        "outputId": "86e46dc9-d054-427b-d996-a06e01c911f3"
      },
      "source": [
        "import numpy as np\n",
        "\n",
        "a = np.zeros([3,2])\n",
        "print(a)"
      ],
      "execution_count": 15,
      "outputs": [
        {
          "output_type": "stream",
          "text": [
            "[[0. 0.]\n",
            " [0. 0.]\n",
            " [0. 0.]]\n"
          ],
          "name": "stdout"
        }
      ]
    },
    {
      "cell_type": "code",
      "metadata": {
        "id": "MyUNKXad0WpZ",
        "colab_type": "code",
        "colab": {
          "base_uri": "https://localhost:8080/",
          "height": 68
        },
        "outputId": "ad83dea8-1fff-4e05-eeba-c2e86228374c"
      },
      "source": [
        "a[0,0] =1\n",
        "a[0,1] = 2\n",
        "a[1,0] = 3\n",
        "a[1,1] =4\n",
        "a[2,0] = 5\n",
        "a[2,1] = 6\n",
        "a"
      ],
      "execution_count": 19,
      "outputs": [
        {
          "output_type": "execute_result",
          "data": {
            "text/plain": [
              "array([[1., 2.],\n",
              "       [3., 4.],\n",
              "       [5., 6.]])"
            ]
          },
          "metadata": {
            "tags": []
          },
          "execution_count": 19
        }
      ]
    },
    {
      "cell_type": "code",
      "metadata": {
        "id": "iwW_JZHt1ENi",
        "colab_type": "code",
        "colab": {
          "base_uri": "https://localhost:8080/",
          "height": 51
        },
        "outputId": "46348129-dbcd-4257-8de4-51b27d653095"
      },
      "source": [
        "print(a[0,0])\n",
        "v=a[0,1]\n",
        "print(v)"
      ],
      "execution_count": 20,
      "outputs": [
        {
          "output_type": "stream",
          "text": [
            "1.0\n",
            "2.0\n"
          ],
          "name": "stdout"
        }
      ]
    },
    {
      "cell_type": "code",
      "metadata": {
        "id": "S1Ni_WTO1OcT",
        "colab_type": "code",
        "colab": {
          "base_uri": "https://localhost:8080/",
          "height": 286
        },
        "outputId": "9c3fcd69-bfe5-48ea-cc90-980a34135458"
      },
      "source": [
        "import matplotlib.pyplot as plt\n",
        "%matplotlib inline\n",
        "plt.imshow(a,interpolation = 'nearest')"
      ],
      "execution_count": 21,
      "outputs": [
        {
          "output_type": "execute_result",
          "data": {
            "text/plain": [
              "<matplotlib.image.AxesImage at 0x7f37be7bd518>"
            ]
          },
          "metadata": {
            "tags": []
          },
          "execution_count": 21
        },
        {
          "output_type": "display_data",
          "data": {
            "image/png": "[encoded data removed]",
            "text/plain": [
              "<Figure size 432x288 with 1 Axes>"
            ]
          },
          "metadata": {
            "tags": [],
            "needs_background": "light"
          }
        }
      ]
    },
    {
      "cell_type": "code",
      "metadata": {
        "id": "XH83Q_WF408G",
        "colab_type": "code",
        "colab": {
          "base_uri": "https://localhost:8080/",
          "height": 34
        },
        "outputId": "060bd85d-f1ab-4398-d803-22d33ddc8981"
      },
      "source": [
        "# class for a dog object\n",
        "class Dog: \n",
        "  #dogs can bark\n",
        "  def bark(self):\n",
        "    print(\"Barf barf\")\n",
        "  \n",
        "  pass\n",
        "\n",
        "\n",
        "speedy = Dog()\n",
        "speedy.bark()\n"
      ],
      "execution_count": 23,
      "outputs": [
        {
          "output_type": "stream",
          "text": [
            "Barf barf\n"
          ],
          "name": "stdout"
        }
      ]
    },
    {
      "cell_type": "code",
      "metadata": {
        "id": "DhK8RKX5-5FX",
        "colab_type": "code",
        "colab": {
          "base_uri": "https://localhost:8080/",
          "height": 85
        },
        "outputId": "7082cef1-9c68-4c4b-fbed-4ca75f5c5dcd"
      },
      "source": [
        "# class for a dog object\n",
        "class Dog: \n",
        "  #dogs can bark\n",
        "  def __init__(self,name,temperature):\n",
        "    self.name = name\n",
        "    self.temperature = temperature\n",
        "\n",
        "  def status(self):\n",
        "    print('Im a dog and my name is',self.name)\n",
        "    print(\"My temperature is \",self.temperature)\n",
        "    pass\n",
        "\n",
        "  def setTemperature(self,new_temperature):\n",
        "    self.temperature = new_temperature\n",
        "    pass\n",
        "\n",
        "\n",
        "  def bark(self):\n",
        "    print(\"Barf barf\")\n",
        "    pass\n",
        "  \n",
        "  pass\n",
        "\n",
        "\n",
        "\n",
        "\n",
        "speedy = Dog(\"speedy\",100)\n",
        "speedy.status()\n",
        "speedy.setTemperature(200)\n",
        "speedy.status()\n"
      ],
      "execution_count": 26,
      "outputs": [
        {
          "output_type": "stream",
          "text": [
            "Im a dog and my name is speedy\n",
            "My temperature is  100\n",
            "Im a dog and my name is speedy\n",
            "My temperature is  200\n"
          ],
          "name": "stdout"
        }
      ]
    }
  ]
}